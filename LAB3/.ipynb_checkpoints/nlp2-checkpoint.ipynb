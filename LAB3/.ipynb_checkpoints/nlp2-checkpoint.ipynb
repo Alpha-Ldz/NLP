{
 "cells": [
  {
   "cell_type": "code",
   "execution_count": null,
   "id": "befdb6c0",
   "metadata": {},
   "outputs": [],
   "source": [
    "from datasets import load_dataset\n",
    "from string import punctuation\n",
    "import numpy as np\n",
    "from sklearn import preprocessing\n",
    "import random\n",
    "\n",
    "import normalizer\n",
    "\n",
    "from nltk.tokenize import word_tokenize\n",
    "import prenlp\n",
    "\n",
    "import lib.dataLoader as dl\n",
    "\n",
    "import random\n",
    "SEED = 42\n",
    "random.seed(SEED)"
   ]
  },
  {
   "cell_type": "code",
   "execution_count": null,
   "id": "70fba532",
   "metadata": {},
   "outputs": [],
   "source": [
    "dataset = load_dataset(\"imdb\").shuffle(seed=SEED)\n",
    "dataset.pop(\"unsupervised\")\n",
    "dataset['train'].set_transform(dl.removePonctTransform)\n",
    "dataset['test'].set_transform(dl.removePonctTransform)\n",
    "\n",
    "dataset"
   ]
  },
  {
   "cell_type": "markdown",
   "id": "6b6bdbc7",
   "metadata": {},
   "source": [
    "Here we use the function we created in the lib to remove punctuation, lowercase, split our dataset into train/validation/test, add the labels in the right format for fasttext and save them as .txt"
   ]
  },
  {
   "cell_type": "code",
   "execution_count": null,
   "id": "fc26bde1",
   "metadata": {},
   "outputs": [],
   "source": [
    "dl.datasetToFasttextFile(dataset)"
   ]
  },
  {
   "cell_type": "code",
   "execution_count": null,
   "id": "9250351e",
   "metadata": {},
   "outputs": [],
   "source": [
    "import fasttext\n",
    "\n",
    "model = fasttext.train_supervised(input=\"texts/train.txt\")"
   ]
  },
  {
   "cell_type": "code",
   "execution_count": null,
   "id": "fdf6cdc1",
   "metadata": {},
   "outputs": [],
   "source": [
    "model.test(\"texts/train.txt\")"
   ]
  },
  {
   "cell_type": "code",
   "execution_count": null,
   "id": "a2281ead",
   "metadata": {},
   "outputs": [],
   "source": [
    "model.test(\"texts/test.txt\")"
   ]
  },
  {
   "cell_type": "code",
   "execution_count": null,
   "id": "1557bfba",
   "metadata": {},
   "outputs": [],
   "source": [
    "hyper_model = fasttext.train_supervised(input=\"texts/train.txt\", autotuneValidationFile=\"texts/validation.txt\")"
   ]
  },
  {
   "cell_type": "code",
   "execution_count": null,
   "id": "4754b433",
   "metadata": {},
   "outputs": [],
   "source": [
    "hyper_model.test(\"texts/train.txt\")"
   ]
  },
  {
   "cell_type": "code",
   "execution_count": null,
   "id": "37ccc365",
   "metadata": {},
   "outputs": [],
   "source": [
    "hyper_model.test(\"texts/validation.txt\")"
   ]
  },
  {
   "cell_type": "code",
   "execution_count": null,
   "id": "8d1264d1",
   "metadata": {},
   "outputs": [],
   "source": [
    "hyper_model.test(\"texts/test.txt\")"
   ]
  },
  {
   "cell_type": "markdown",
   "id": "ee1d19f4",
   "metadata": {},
   "source": [
    "The main differences between the two models are:"
   ]
  },
  {
   "cell_type": "code",
   "execution_count": null,
   "id": "67f7e403",
   "metadata": {},
   "outputs": [],
   "source": [
    "print(\"Leaning rates:\")\n",
    "print(\"Normal model: \" + str(model.lr) + \", model optimized: \" + str(hyper_model.lr))\n",
    "print(\"Dimensions:\")\n",
    "print(\"Normal model: \" + str(model.dim) + \", model optimized: \" + str(hyper_model.dim))\n",
    "print(\"Number of epochs:\")\n",
    "print(\"Normal model: \" + str(model.epoch) + \", model optimized: \" + str(hyper_model.epoch))"
   ]
  }
 ],
 "metadata": {
  "kernelspec": {
   "display_name": "Python 3 (ipykernel)",
   "language": "python",
   "name": "python3"
  },
  "language_info": {
   "codemirror_mode": {
    "name": "ipython",
    "version": 3
   },
   "file_extension": ".py",
   "mimetype": "text/x-python",
   "name": "python",
   "nbconvert_exporter": "python",
   "pygments_lexer": "ipython3",
   "version": "3.10.6"
  }
 },
 "nbformat": 4,
 "nbformat_minor": 5
}
