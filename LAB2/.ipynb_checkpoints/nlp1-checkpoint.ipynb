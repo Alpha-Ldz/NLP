{
 "cells": [
  {
   "cell_type": "code",
   "execution_count": null,
   "id": "eced805f",
   "metadata": {},
   "outputs": [],
   "source": [
    "import numpy as np\n",
    "import random\n",
    "\n",
    "from datasets import load_dataset\n",
    "from string import punctuation\n",
    "from sklearn import preprocessing\n",
    "\n",
    "from matplotlib import pyplot as plt\n",
    "\n",
    "#Libs imports\n",
    "import lib.dataLoader as dl\n",
    "import lib.model as bayes\n",
    "\n",
    "from IPython.display import Image"
   ]
  },
  {
   "cell_type": "markdown",
   "id": "424249c8",
   "metadata": {},
   "source": [
    "### Load dataset and pop the useless unsupervised part"
   ]
  },
  {
   "cell_type": "markdown",
   "id": "8d8e2e75",
   "metadata": {},
   "source": [
    "The IMDB dataset contain 3 splits:<br>\n",
    "    -The train dataset that contain 25000 elements<br>\n",
    "    -The test dataset that contain 25000 elements<br>\n",
    "    -The unsupervised dataset that contain 50000 element"
   ]
  },
  {
   "cell_type": "code",
   "execution_count": null,
   "id": "b4341801",
   "metadata": {},
   "outputs": [],
   "source": [
    "dataset = load_dataset(\"imdb\")\n",
    "dataset.pop(\"unsupervised\")\n",
    "dataset"
   ]
  },
  {
   "cell_type": "markdown",
   "id": "36483835",
   "metadata": {},
   "source": [
    "### Setup the transforms in order to remove the ponctuation and lower case the texts"
   ]
  },
  {
   "cell_type": "code",
   "execution_count": null,
   "id": "d6a65757",
   "metadata": {},
   "outputs": [],
   "source": [
    "dataset['train'].set_transform(dl.removePonctTransform)\n",
    "dataset['test'].set_transform(dl.removePonctTransform)"
   ]
  },
  {
   "cell_type": "markdown",
   "id": "45c35216",
   "metadata": {},
   "source": [
    "### Split the datasets in order to train on it"
   ]
  },
  {
   "cell_type": "code",
   "execution_count": null,
   "id": "72f061d0",
   "metadata": {},
   "outputs": [],
   "source": [
    "(X_train_text, X_test_text, y_train, y_test) = dl.splitDataset(dataset)"
   ]
  },
  {
   "cell_type": "markdown",
   "id": "c3d1d25f",
   "metadata": {},
   "source": [
    "### Gets the more revelant words in order to encode the texts"
   ]
  },
  {
   "cell_type": "code",
   "execution_count": null,
   "id": "87a6a924",
   "metadata": {},
   "outputs": [],
   "source": [
    "words = dl.listMostRevelantWord(X_train_text, 3400)"
   ]
  },
  {
   "cell_type": "markdown",
   "id": "380ccb76",
   "metadata": {},
   "source": [
    "### Encode the texts"
   ]
  },
  {
   "cell_type": "code",
   "execution_count": null,
   "id": "2ee3cf4f",
   "metadata": {},
   "outputs": [],
   "source": [
    "X_train = dl.textToRevelantMatrice(X_train_text, words)\n",
    "X_test = dl.textToRevelantMatrice(X_test_text, words)"
   ]
  },
  {
   "cell_type": "markdown",
   "id": "b31dfbaa",
   "metadata": {},
   "source": [
    "### Create bayes model"
   ]
  },
  {
   "cell_type": "code",
   "execution_count": null,
   "id": "72b38dfb",
   "metadata": {},
   "outputs": [],
   "source": [
    "model = bayes.createModel()"
   ]
  },
  {
   "cell_type": "markdown",
   "id": "ff5a2eb0",
   "metadata": {},
   "source": [
    "### Train the bayes model with our train encoded dataset"
   ]
  },
  {
   "cell_type": "code",
   "execution_count": null,
   "id": "18356822",
   "metadata": {},
   "outputs": [],
   "source": [
    "model = bayes.trainModel(model, X_train, y_train)"
   ]
  },
  {
   "cell_type": "markdown",
   "id": "b10c7138",
   "metadata": {},
   "source": [
    "### Draw results on the test dataset"
   ]
  },
  {
   "cell_type": "code",
   "execution_count": null,
   "id": "58254840",
   "metadata": {},
   "outputs": [],
   "source": [
    "bayes.testModel(model, X_test, y_test, True)"
   ]
  },
  {
   "cell_type": "markdown",
   "id": "7f978ea2",
   "metadata": {},
   "source": [
    "Here the accuracy is a good way to measure the efficiency of our model because our dataset is large and our learning is unsupervised"
   ]
  },
  {
   "cell_type": "markdown",
   "id": "f8e08d09",
   "metadata": {},
   "source": [
    "### As part of our analysis, we have executed the following line of code as a comment. This takes a lot of time, that's why we recorded our result that we display here:"
   ]
  },
  {
   "cell_type": "code",
   "execution_count": null,
   "id": "1c5e321e",
   "metadata": {},
   "outputs": [],
   "source": [
    "\"\"\"\n",
    "words_ = dl.listSortRevelantWord(X_train_text)\n",
    "\n",
    "no_ponct_result_list = []\n",
    "\n",
    "for i in range (100, 5000, 100):\n",
    "    words = dl.getNFirstWords(words_, i)\n",
    "\n",
    "    X_train = dl.textToRevelantMatrice(X_train_text, words)\n",
    "    X_test = dl.textToRevelantMatrice(X_test_text, words)\n",
    "\n",
    "    model = bayes.createModel()\n",
    "    model = bayes.trainModel(model, X_train, y_train)\n",
    "\n",
    "    no_ponct_result_list.append(bayes.countDif(model, X_test, y_test))\n",
    "    \n",
    "x = np.linspace(100, 5000, num=len(no_ponct_result_list))\n",
    "\n",
    "plt.plot(x, no_ponct_result_list)\n",
    "plt.title(\"Prediction curve according to the number of word used without ponctuation\")\n",
    "plt.xlabel(\"Number of most revelant words\")\n",
    "plt.ylabel(\"Number of fail prediction\")\n",
    "\n",
    "plt.savefig(\"figures/no_ponct_preds\")\n",
    "\"\"\"\n",
    "Image(\"figures/no_ponct_preds.png\")"
   ]
  },
  {
   "cell_type": "markdown",
   "id": "ca348820",
   "metadata": {},
   "source": [
    "### This is how we deduced that we had to take the first 3400 words"
   ]
  },
  {
   "cell_type": "markdown",
   "id": "48324f24",
   "metadata": {},
   "source": [
    "### We do the same process as before with a better preprocess, we remove ponctuation, upper cases and stop words"
   ]
  },
  {
   "cell_type": "code",
   "execution_count": null,
   "id": "53506a97",
   "metadata": {},
   "outputs": [],
   "source": [
    "dataset = load_dataset(\"imdb\")\n",
    "dataset['train'].set_transform(dl.removeStopWordsTransform)\n",
    "dataset['test'].set_transform(dl.removeStopWordsTransform)\n",
    "(X_train_text, X_test_text, y_train, y_test) = dl.splitDataset(dataset)\n",
    "\n",
    "words = dl.listMostRevelantWord(X_train_text, 2600)\n",
    "\n",
    "X_train = dl.textToRevelantMatrice(X_train_text, words)\n",
    "X_test = dl.textToRevelantMatrice(X_test_text, words)\n",
    "\n",
    "model = bayes.createModel()\n",
    "model = bayes.trainModel(model, X_train, y_train)\n",
    "\n",
    "bayes.testModel(model, X_test, y_test, True)"
   ]
  },
  {
   "cell_type": "markdown",
   "id": "28c64b64",
   "metadata": {},
   "source": [
    "We have here a better accuracy, the steamming removes stopwords and therefore words that do not add context to our text, false information in our case"
   ]
  },
  {
   "cell_type": "markdown",
   "id": "173b1256",
   "metadata": {},
   "source": [
    "### As before, we ran this code to deduce that we should take the first 2600 lines:"
   ]
  },
  {
   "cell_type": "code",
   "execution_count": null,
   "id": "56480b7b",
   "metadata": {},
   "outputs": [],
   "source": [
    "\"\"\"\n",
    "words_ = dl.listSortRevelantWord(X_train_text)\n",
    "\n",
    "no_stopwords_result_list = []\n",
    "\n",
    "for i in range (100, 5000, 100):\n",
    "    words = dl.getNFirstWords(words_, i)\n",
    "\n",
    "    X_train = dl.textToRevelantMatrice(X_train_text, words)\n",
    "    X_test = dl.textToRevelantMatrice(X_test_text, words)\n",
    "\n",
    "    model = bayes.createModel()\n",
    "    model = bayes.trainModel(model, X_train, y_train)\n",
    "\n",
    "    no_stopwords_result_list.append(bayes.countDif(model, X_test, y_test))\n",
    "\n",
    "x = np.linspace(100, 5000, num=len(no_stopwords_result_list))\n",
    "\n",
    "plt.plot(x, no_stopwords_result_list)\n",
    "plt.title(\"Prediction curve according to the number of word used without stop words\")\n",
    "plt.xlabel(\"Number of most revelant words\")\n",
    "plt.ylabel(\"Number of fail prediction\")\n",
    "plt.savefig(\"figures/no_stopwords_preds\")\n",
    "\"\"\"\n",
    "\n",
    "Image(\"figures/no_stopwords_preds.png\")"
   ]
  }
 ],
 "metadata": {
  "kernelspec": {
   "display_name": "Python 3 (ipykernel)",
   "language": "python",
   "name": "python3"
  },
  "language_info": {
   "codemirror_mode": {
    "name": "ipython",
    "version": 3
   },
   "file_extension": ".py",
   "mimetype": "text/x-python",
   "name": "python",
   "nbconvert_exporter": "python",
   "pygments_lexer": "ipython3",
   "version": "3.10.6"
  }
 },
 "nbformat": 4,
 "nbformat_minor": 5
}
